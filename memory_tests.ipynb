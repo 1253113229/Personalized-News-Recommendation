{
 "cells": [
  {
   "cell_type": "markdown",
   "metadata": {},
   "source": [
    "## Test memory usage for 1 file"
   ]
  },
  {
   "cell_type": "code",
   "execution_count": 1,
   "metadata": {},
   "outputs": [
    {
     "name": "stdout",
     "output_type": "stream",
     "text": [
      "Available Physical Memory: 21,573 MB\n"
     ]
    }
   ],
   "source": [
    "import dataset\n",
    "\n",
    "!systeminfo |find \"Available Physical Memory\""
   ]
  },
  {
   "cell_type": "code",
   "execution_count": 2,
   "metadata": {},
   "outputs": [
    {
     "name": "stdout",
     "output_type": "stream",
     "text": [
      "1672145 events with 45 articles\n",
      "Skipped events: 3009847\n"
     ]
    }
   ],
   "source": [
    "files = (\"ydata-fp-td-clicks-v1_0.20090501\",)\n",
    "dataset.get_yahoo_events(files)"
   ]
  },
  {
   "cell_type": "code",
   "execution_count": 3,
   "metadata": {},
   "outputs": [
    {
     "name": "stdout",
     "output_type": "stream",
     "text": [
      "Available Physical Memory: 20,435 MB\n"
     ]
    }
   ],
   "source": [
    "!systeminfo |find \"Available Physical Memory\""
   ]
  },
  {
   "cell_type": "markdown",
   "metadata": {},
   "source": [
    "## Test memory usage for 2 files"
   ]
  },
  {
   "cell_type": "code",
   "execution_count": 1,
   "metadata": {},
   "outputs": [
    {
     "name": "stdout",
     "output_type": "stream",
     "text": [
      "Available Physical Memory: 21,563 MB\n"
     ]
    }
   ],
   "source": [
    "!systeminfo |find \"Available Physical Memory\""
   ]
  },
  {
   "cell_type": "code",
   "execution_count": 3,
   "metadata": {},
   "outputs": [
    {
     "name": "stdout",
     "output_type": "stream",
     "text": [
      "5290843 events with 89 articles\n",
      "Skipped events: 3009847\n"
     ]
    }
   ],
   "source": [
    "import dataset\n",
    "files = (\"ydata-fp-td-clicks-v1_0.20090501\",\"ydata-fp-td-clicks-v1_0.20090509\",)\n",
    "dataset.get_yahoo_events(files)"
   ]
  },
  {
   "cell_type": "code",
   "execution_count": 4,
   "metadata": {},
   "outputs": [
    {
     "name": "stdout",
     "output_type": "stream",
     "text": [
      "Available Physical Memory: 18,322 MB\n"
     ]
    }
   ],
   "source": [
    "!systeminfo |find \"Available Physical Memory\""
   ]
  }
 ],
 "metadata": {
  "kernelspec": {
   "display_name": "Keras GPU",
   "language": "python",
   "name": "base"
  },
  "language_info": {
   "codemirror_mode": {
    "name": "ipython",
    "version": 3
   },
   "file_extension": ".py",
   "mimetype": "text/x-python",
   "name": "python",
   "nbconvert_exporter": "python",
   "pygments_lexer": "ipython3",
   "version": "3.7.4"
  }
 },
 "nbformat": 4,
 "nbformat_minor": 2
}
