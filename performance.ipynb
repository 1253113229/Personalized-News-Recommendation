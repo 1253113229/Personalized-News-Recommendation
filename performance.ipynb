{
 "cells": [
  {
   "cell_type": "markdown",
   "metadata": {},
   "source": [
    "# Performance \n",
    "Execution times for the multi armed bandit algorithms & memory allocation for the dataset"
   ]
  },
  {
   "cell_type": "code",
   "execution_count": 1,
   "metadata": {
    "pycharm": {
     "is_executing": false,
     "name": "#%%\n"
    }
   },
   "outputs": [],
   "source": [
    "%load_ext autoreload\n",
    "%autoreload 2\n",
    "from bandits import LinUCB, ThompsonSampling, Ucb1, Egreedy\n",
    "from evaluator import evaluate\n",
    "import dataset\n",
    "from matplotlib import pyplot as plt"
   ]
  },
  {
   "cell_type": "code",
   "execution_count": 2,
   "metadata": {},
   "outputs": [
    {
     "name": "stdout",
     "output_type": "stream",
     "text": [
      "total        used        free      shared  buff/cache   available\n",
      "Mem:          24053        6560        7695         141        9797       17019\n",
      "Swap:             0           0           0\n"
     ]
    }
   ],
   "source": [
    "!free -m"
   ]
  },
  {
   "cell_type": "code",
   "execution_count": 3,
   "metadata": {},
   "outputs": [
    {
     "name": "stdout",
     "output_type": "stream",
     "text": [
      "3966363 events with 39 articles\n",
      "CPU times: user 1min 53s, sys: 3.32 self, total: 1min 57s\n",
      "Wall time: 2min 1s\n"
     ]
    }
   ],
   "source": [
    "%%time\n",
    "import dataset\n",
    "files = (\"dataset/R6/ydata-fp-td-clicks-v1_0.20090503\")\n",
    "dataset.get_yahoo_events(files)"
   ]
  },
  {
   "cell_type": "code",
   "execution_count": 4,
   "metadata": {},
   "outputs": [
    {
     "name": "stdout",
     "output_type": "stream",
     "text": [
      "total        used        free      shared  buff/cache   available\n",
      "Mem:          24053       11833         214         281       12004       11617\n",
      "Swap:             0           0           0\n"
     ]
    }
   ],
   "source": [
    "!free -m"
   ]
  },
  {
   "cell_type": "code",
   "execution_count": 5,
   "metadata": {
    "pycharm": {
     "is_executing": false,
     "name": "#%%\n"
    }
   },
   "outputs": [
    {
     "name": "stdout",
     "output_type": "stream",
     "text": [
      "Egreedy (ε=0.1)     0.0374    22.4s\n",
      "TS                  0.0378    1.6m\n",
      "UCB1 (α=0.1)        0.0371    47.2s\n",
      "LinUCB (α=0.3)      0.0425    8.1m\n"
     ]
    }
   ],
   "source": [
    "tests = [Egreedy(0.1),ThompsonSampling(),Ucb1(0.1),LinUCB(0.3)]\n",
    "alg_names = [x.algorithm for x in tests]\n",
    "\n",
    "for test in tests:\n",
    "    _,_ = evaluate(test)   "
   ]
  }
 ],
 "metadata": {
  "kernelspec": {
   "display_name": "Python 3",
   "language": "python",
   "name": "python3"
  },
  "language_info": {
   "codemirror_mode": {
    "name": "ipython",
    "version": 3
   },
   "file_extension": ".py",
   "mimetype": "text/x-python",
   "name": "python",
   "nbconvert_exporter": "python",
   "pygments_lexer": "ipython3",
   "version": "3.7.6"
  },
  "pycharm": {
   "stem_cell": {
    "cell_type": "raw",
    "metadata": {
     "collapsed": false
    },
    "source": []
   }
  }
 },
 "nbformat": 4,
 "nbformat_minor": 1
}
