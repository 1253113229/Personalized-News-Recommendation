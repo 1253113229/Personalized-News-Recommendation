{
 "cells": [
  {
   "cell_type": "markdown",
   "metadata": {},
   "source": [
    "# Performance \n",
    "Execution times for the multi armed bandit algorithms"
   ]
  },
  {
   "cell_type": "code",
   "execution_count": 1,
   "metadata": {
    "pycharm": {
     "is_executing": false,
     "name": "#%%\n"
    }
   },
   "outputs": [
    {
     "name": "stdout",
     "output_type": "stream",
     "text": [
      "3618698 events with 44 articles\n"
     ]
    }
   ],
   "source": [
    "%load_ext autoreload\n",
    "%autoreload 2\n",
    "from bandits import linucb, thompson_sampling, ucb1, egreedy\n",
    "from evaluator import evaluate\n",
    "import dataset\n",
    "from matplotlib import pyplot as plt\n",
    "\n",
    "files = (\"ydata-fp-td-clicks-v1_0.20090509\",)\n",
    "dataset.get_yahoo_events(files)"
   ]
  },
  {
   "cell_type": "markdown",
   "metadata": {},
   "source": [
    "## Execution times on the learning bucket"
   ]
  },
  {
   "cell_type": "code",
   "execution_count": 2,
   "metadata": {
    "pycharm": {
     "is_executing": false,
     "name": "#%%\n"
    }
   },
   "outputs": [
    {
     "name": "stdout",
     "output_type": "stream",
     "text": [
      "learn     egreedy (ε=0.1)     0.031     2.7s\n",
      "learn     TS                  0.028     8.3s\n",
      "learn     UCB1 (α=0.3)        0.023     5.1s\n",
      "learn     LinUCB (α=0.3)      0.034     36.9s\n"
     ]
    },
    {
     "data": {
      "image/png": "[encoded data removed]",
      "text/plain": [
       "<Figure size 432x288 with 1 Axes>"
      ]
     },
     "metadata": {
      "needs_background": "light"
     },
     "output_type": "display_data"
    }
   ],
   "source": [
    "tests = [egreedy(0.1),thompson_sampling(),ucb1(0.3),linucb(0.3)]\n",
    "alg_names = [x.algorithm for x in tests]\n",
    "times = []\n",
    "for test in tests:\n",
    "    _, t = evaluate(test, mode=\"learn\")\n",
    "    times.append(t)\n",
    "    \n",
    "plt.bar(alg_names, times)\n",
    "plt.ylabel(\"Seconds\")\n",
    "plt.title(\"Learning bucket\")\n",
    "plt.show()"
   ]
  },
  {
   "cell_type": "markdown",
   "metadata": {},
   "source": [
    "## Execution times on the deployment bucket"
   ]
  },
  {
   "cell_type": "code",
   "execution_count": 3,
   "metadata": {
    "pycharm": {
     "is_executing": false,
     "name": "#%%\n"
    }
   },
   "outputs": [
    {
     "name": "stdout",
     "output_type": "stream",
     "text": [
      "deploy    egreedy (ε=0.1)     0.045     19.2s\n",
      "deploy    TS                  0.047     1.2m\n",
      "deploy    UCB1 (α=0.3)        0.042     41.4s\n",
      "deploy    LinUCB (α=0.3)      0.054     6.0m\n"
     ]
    },
    {
     "data": {
      "image/png": "[encoded data removed]",
      "text/plain": [
       "<Figure size 432x288 with 1 Axes>"
      ]
     },
     "metadata": {
      "needs_background": "light"
     },
     "output_type": "display_data"
    }
   ],
   "source": [
    "times = []\n",
    "for test in tests:\n",
    "    _, t = evaluate(test, mode=\"deploy\")\n",
    "    times.append(t/60)\n",
    "    \n",
    "plt.bar(alg_names, times)\n",
    "plt.ylabel(\"Minutes\")\n",
    "plt.title(\"Deployment bucket\")\n",
    "plt.show()"
   ]
  }
 ],
 "metadata": {
  "kernelspec": {
   "display_name": "Python 3",
   "language": "python",
   "name": "python3"
  },
  "language_info": {
   "codemirror_mode": {
    "name": "ipython",
    "version": 3
   },
   "file_extension": ".py",
   "mimetype": "text/x-python",
   "name": "python",
   "nbconvert_exporter": "python",
   "pygments_lexer": "ipython3",
   "version": "3.7.4"
  },
  "pycharm": {
   "stem_cell": {
    "cell_type": "raw",
    "metadata": {
     "collapsed": false
    },
    "source": []
   }
  }
 },
 "nbformat": 4,
 "nbformat_minor": 1
}
