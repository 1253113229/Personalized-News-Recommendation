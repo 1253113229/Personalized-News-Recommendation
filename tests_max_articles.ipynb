{
 "cells": [
  {
   "cell_type": "code",
   "execution_count": 1,
   "metadata": {
    "pycharm": {
     "is_executing": false,
     "name": "#%%\n"
    }
   },
   "outputs": [],
   "source": [
    "%load_ext autoreload\n",
    "%autoreload 2\n",
    "%config IPCompleter.greedy=True\n",
    "\n",
    "from bandits import linucb, thompson_sampling, ucb1, egreedy\n",
    "from evaluator import evaluate\n",
    "import dataset\n",
    "from matplotlib import pyplot as plt\n",
    "import copy\n",
    "import numpy as np\n",
    "import pandas as pd"
   ]
  },
  {
   "cell_type": "code",
   "execution_count": 2,
   "metadata": {
    "pycharm": {
     "is_executing": false,
     "name": "#%%\n"
    }
   },
   "outputs": [
    {
     "name": "stdout",
     "output_type": "stream",
     "text": [
      "3618698 events with 44 articles\n"
     ]
    }
   ],
   "source": [
    "files = (\"ydata-fp-td-clicks-v1_0.20090509\",)\n",
    "dataset.get_yahoo_events(files)"
   ]
  },
  {
   "cell_type": "code",
   "execution_count": 3,
   "metadata": {
    "pycharm": {
     "is_executing": false,
     "name": "#%%\n"
    }
   },
   "outputs": [],
   "source": [
    "articles_all, features_all, events_all = list(dataset.articles),np.copy(dataset.features),copy.deepcopy(dataset.events)"
   ]
  },
  {
   "cell_type": "code",
   "execution_count": 4,
   "metadata": {
    "pycharm": {
     "is_executing": false,
     "name": "#%%\n"
    }
   },
   "outputs": [],
   "source": [
    "def test_max_articles(max_articles):\n",
    "    dataset.max_articles(max_articles)\n",
    "    rnd_score, _ = evaluate(egreedy(1), mode=\"learn\")\n",
    "    \n",
    "    \n",
    "    bandits = [egreedy(0.1),thompson_sampling(),ucb1(0.3),linucb(0.3)]\n",
    "    alg_names = [x.algorithm for x in bandits]\n",
    "    \n",
    "    ctrs = []\n",
    "    for bandit in bandits:\n",
    "        evaluate(bandit, mode=\"learn\")\n",
    "        ctr, _ = evaluate(bandit, mode=\"deploy\")\n",
    "        ctrs.append(ctr/rnd_score)\n",
    "    \n",
    "    plt.bar(alg_names, ctrs)\n",
    "    plt.ylabel(\"CTR Lift\")\n",
    "    plt.title(str(max_articles)+\" articles\")\n",
    "    plt.show()"
   ]
  },
  {
   "cell_type": "code",
   "execution_count": 5,
   "metadata": {
    "pycharm": {
     "is_executing": false,
     "name": "#%%\n"
    }
   },
   "outputs": [
    {
     "name": "stdout",
     "output_type": "stream",
     "text": [
      "Number of events: 3391094\n",
      "learn     egreedy (ε=1)       0.023     1.4s\n",
      "learn     egreedy (ε=0.1)     0.031     1.8s\n",
      "deploy    egreedy (ε=0.1)     0.043     11.4s\n",
      "learn     TS                  0.027     6.3s\n",
      "deploy    TS                  0.042     51.6s\n",
      "learn     UCB1 (α=0.3)        0.025     3.3s\n",
      "deploy    UCB1 (α=0.3)        0.039     24.7s\n",
      "learn     LinUCB (α=0.3)      0.048     32.9s\n",
      "deploy    LinUCB (α=0.3)      0.045     4.9m\n"
     ]
    },
    {
     "data": {
      "image/png": "[encoded data removed]",
      "text/plain": [
       "<Figure size 432x288 with 1 Axes>"
      ]
     },
     "metadata": {
      "needs_background": "light"
     },
     "output_type": "display_data"
    }
   ],
   "source": [
    "# dataset.articles,dataset.features,dataset.events = list(articles_all), np.copy(features_all), copy.deepcopy(events_all)\n",
    "test_max_articles(20)"
   ]
  },
  {
   "cell_type": "code",
   "execution_count": 6,
   "metadata": {
    "pycharm": {
     "is_executing": false,
     "name": "#%%\n"
    }
   },
   "outputs": [
    {
     "name": "stdout",
     "output_type": "stream",
     "text": [
      "Number of events: 1717102\n",
      "learn     egreedy (ε=1)       0.019     0.7s\n",
      "learn     egreedy (ε=0.1)     0.027     1.0s\n",
      "deploy    egreedy (ε=0.1)     0.042     5.9s\n",
      "learn     TS                  0.028     3.0s\n",
      "deploy    TS                  0.044     24.0s\n",
      "learn     UCB1 (α=0.3)        0.023     1.7s\n",
      "deploy    UCB1 (α=0.3)        0.044     12.4s\n",
      "learn     LinUCB (α=0.3)      0.035     11.7s\n",
      "deploy    LinUCB (α=0.3)      0.044     1.7m\n"
     ]
    },
    {
     "data": {
      "image/png": "[encoded data removed]",
      "text/plain": [
       "<Figure size 432x288 with 1 Axes>"
      ]
     },
     "metadata": {
      "needs_background": "light"
     },
     "output_type": "display_data"
    }
   ],
   "source": [
    "dataset.articles,dataset.features,dataset.events = list(articles_all), np.copy(features_all), copy.deepcopy(events_all)\n",
    "test_max_articles(10)"
   ]
  },
  {
   "cell_type": "code",
   "execution_count": 7,
   "metadata": {
    "pycharm": {
     "is_executing": false,
     "name": "#%%\n"
    }
   },
   "outputs": [
    {
     "name": "stdout",
     "output_type": "stream",
     "text": [
      "Number of events: 859294\n",
      "learn     egreedy (ε=1)       0.022     0.4s\n",
      "learn     egreedy (ε=0.1)     0.03      0.5s\n",
      "deploy    egreedy (ε=0.1)     0.04      3.1s\n",
      "learn     TS                  0.028     1.5s\n",
      "deploy    TS                  0.041     11.7s\n",
      "learn     UCB1 (α=0.3)        0.021     0.9s\n",
      "deploy    UCB1 (α=0.3)        0.043     6.3s\n",
      "learn     LinUCB (α=0.3)      0.028     4.8s\n",
      "deploy    LinUCB (α=0.3)      0.041     41.7s\n"
     ]
    },
    {
     "data": {
      "image/png": "[encoded data removed]",
      "text/plain": [
       "<Figure size 432x288 with 1 Axes>"
      ]
     },
     "metadata": {
      "needs_background": "light"
     },
     "output_type": "display_data"
    }
   ],
   "source": [
    "dataset.articles,dataset.features,dataset.events = list(articles_all), np.copy(features_all), copy.deepcopy(events_all)\n",
    "test_max_articles(5)"
   ]
  }
 ],
 "metadata": {
  "kernelspec": {
   "display_name": "Keras GPU",
   "language": "python",
   "name": "base"
  },
  "language_info": {
   "codemirror_mode": {
    "name": "ipython",
    "version": 3
   },
   "file_extension": ".py",
   "mimetype": "text/x-python",
   "name": "python",
   "nbconvert_exporter": "python",
   "pygments_lexer": "ipython3",
   "version": "3.7.4"
  },
  "pycharm": {
   "stem_cell": {
    "cell_type": "raw",
    "metadata": {
     "collapsed": false
    },
    "source": []
   }
  }
 },
 "nbformat": 4,
 "nbformat_minor": 1
}
